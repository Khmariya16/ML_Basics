{
  "nbformat": 4,
  "nbformat_minor": 0,
  "metadata": {
    "colab": {
      "provenance": [],
      "authorship_tag": "ABX9TyNrO0yV77TGmrPO3LAo5Orl"
    },
    "kernelspec": {
      "name": "python3",
      "display_name": "Python 3"
    },
    "language_info": {
      "name": "python"
    }
  },
  "cells": [
    {
      "cell_type": "markdown",
      "source": [
        "**Term Frequency (TF)**: Measures how frequently a term appears in a document\n",
        "\n",
        "**Inverse Document Frequency (IDF):** Measures how important a term is in the entire corpus\n",
        "\n",
        "**TfidfVectorizer** is a tool provided by the **scikit-learn library** in Python that transforms text data into feature vectors.\n",
        "\n",
        "These vectors are based on the *Term Frequency-Inverse Document Frequency (TF-IDF) metric*, which reflects how important a word is to a document in a collection of documents (corpus)."
      ],
      "metadata": {
        "id": "wOWqqoEj1qQK"
      }
    },
    {
      "cell_type": "markdown",
      "source": [
        "#used in naural language processing and text analysis tasks\n",
        "#1.Information Retrieval and Search Engines\n",
        "#2. Text Classification\n",
        "#3. Clustering and Topic Modeling\n",
        "#4. Recommendation Systems\n",
        "#5. Document Similarity\n",
        "#6. Keyword Extraction\n",
        "#7. Summarization"
      ],
      "metadata": {
        "id": "7y2AB6HJ2dpw"
      }
    },
    {
      "cell_type": "code",
      "source": [
        "from sklearn.feature_extraction.text import TfidfVectorizer\n",
        "import pandas as pd\n",
        "\n",
        "# Sample documents\n",
        "documents = [\n",
        "    \"The cat sat on the mat.\",\n",
        "    \"The dog sat on the log.\",\n",
        "    \"The cat chased the dog.\"\n",
        "]\n",
        "\n",
        "# Initialize the TfidfVectorizer\n",
        "vectorizer = TfidfVectorizer()\n",
        "\n",
        "# Fit and transform the documents\n",
        "X = vectorizer.fit_transform(documents)\n",
        "\n",
        "# Convert to DataFrame\n",
        "df = pd.DataFrame(X.toarray(), columns=vectorizer.get_feature_names_out())\n",
        "\n",
        "# Display the DataFrame\n",
        "print(df)\n"
      ],
      "metadata": {
        "colab": {
          "base_uri": "https://localhost:8080/"
        },
        "id": "Xbb40DFU2nBz",
        "outputId": "8beecea2-e959-428c-8973-1eac32bf4f9f"
      },
      "execution_count": 8,
      "outputs": [
        {
          "output_type": "stream",
          "name": "stdout",
          "text": [
            "        cat    chased       dog       log       mat        on       sat  \\\n",
            "0  0.374207  0.000000  0.000000  0.000000  0.492038  0.374207  0.374207   \n",
            "1  0.000000  0.000000  0.374207  0.492038  0.000000  0.374207  0.374207   \n",
            "2  0.403525  0.530587  0.403525  0.000000  0.000000  0.000000  0.000000   \n",
            "\n",
            "        the  \n",
            "0  0.581211  \n",
            "1  0.581211  \n",
            "2  0.626747  \n"
          ]
        }
      ]
    },
    {
      "cell_type": "code",
      "source": [
        "#search engine\n",
        "from sklearn.feature_extraction.text import TfidfVectorizer\n",
        "from sklearn.metrics.pairwise import linear_kernel\n",
        "documents = [\n",
        "    \"The cat sat on the mat.\",\n",
        "    \"The dog sat on the log.\",\n",
        "    \"The cat chased the dog.\"\n",
        "]\n",
        "vect = TfidfVectorizer()\n",
        "x = vect.fit_transform(documents)\n",
        "query = \"The cat chased the dog.\"\n",
        "query_vec = vect.transform([query])\n",
        "cosine_similarity = linear_kernel(query_vec, x).flatten()\n",
        "ranked_docs = cosine_similarity.argsort()[::-1]\n",
        "for idx in ranked_docs:\n",
        "    print(documents[idx], cosine_similarity[idx])\n",
        "\n"
      ],
      "metadata": {
        "colab": {
          "base_uri": "https://localhost:8080/"
        },
        "id": "f2NFkWJmy01A",
        "outputId": "cf4db96b-c09e-48cc-cd86-b6540642bd43"
      },
      "execution_count": 4,
      "outputs": [
        {
          "output_type": "stream",
          "name": "stdout",
          "text": [
            "The cat chased the dog. 1.0\n",
            "The dog sat on the log. 0.5152740657843794\n",
            "The cat sat on the mat. 0.5152740657843794\n"
          ]
        }
      ]
    },
    {
      "cell_type": "code",
      "source": [
        "from sklearn.feature_extraction.text import TfidfVectorizer\n",
        "from sklearn.metrics.pairwise import cosine_similarity\n",
        "\n",
        "documents = [\n",
        "    \"The cat sat on the mat.\",\n",
        "    \"The dog sat on the log.\",\n",
        "    \"The cat chased the dog.\"\n",
        "]\n",
        "\n",
        "vectorizer = TfidfVectorizer()\n",
        "X = vectorizer.fit_transform(documents)\n",
        "\n",
        "similarity_matrix = cosine_similarity(X)\n",
        "\n",
        "print(similarity_matrix)\n"
      ],
      "metadata": {
        "colab": {
          "base_uri": "https://localhost:8080/"
        },
        "id": "zUZ66ltY1cvj",
        "outputId": "23c41ae7-3cfd-4bde-8b70-8af6176281bd"
      },
      "execution_count": 7,
      "outputs": [
        {
          "output_type": "stream",
          "name": "stdout",
          "text": [
            "[[1.         0.61786795 0.51527407]\n",
            " [0.61786795 1.         0.51527407]\n",
            " [0.51527407 0.51527407 1.        ]]\n"
          ]
        }
      ]
    }
  ]
}